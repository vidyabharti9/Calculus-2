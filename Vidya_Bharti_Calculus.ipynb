{
  "nbformat": 4,
  "nbformat_minor": 0,
  "metadata": {
    "colab": {
      "provenance": [],
      "authorship_tag": "ABX9TyO5lgjXqI6ZOqkw1GnZusV8",
      "include_colab_link": true
    },
    "kernelspec": {
      "name": "python3",
      "display_name": "Python 3"
    },
    "language_info": {
      "name": "python"
    }
  },
  "cells": [
    {
      "cell_type": "markdown",
      "metadata": {
        "id": "view-in-github",
        "colab_type": "text"
      },
      "source": [
        "<a href=\"https://colab.research.google.com/github/vidyabharti9/Calculus-2/blob/main/Vidya_Bharti_Calculus.ipynb\" target=\"_parent\"><img src=\"https://colab.research.google.com/assets/colab-badge.svg\" alt=\"Open In Colab\"/></a>"
      ]
    },
    {
      "cell_type": "code",
      "execution_count": 1,
      "metadata": {
        "colab": {
          "base_uri": "https://localhost:8080/"
        },
        "id": "uL-1ji2sC3Qf",
        "outputId": "476e4257-50ef-43aa-cddb-8f385c5504f7"
      },
      "outputs": [
        {
          "output_type": "stream",
          "name": "stdout",
          "text": [
            "Looking in indexes: https://pypi.org/simple, https://us-python.pkg.dev/colab-wheels/public/simple/\n",
            "Collecting metaplot\n",
            "  Downloading metaplot-1.1.0.tar.gz (8.1 kB)\n",
            "  Preparing metadata (setup.py) ... \u001b[?25l\u001b[?25hdone\n",
            "Requirement already satisfied: numpy in /usr/local/lib/python3.9/dist-packages (from metaplot) (1.22.4)\n",
            "Requirement already satisfied: matplotlib in /usr/local/lib/python3.9/dist-packages (from metaplot) (3.5.3)\n",
            "Collecting pint\n",
            "  Downloading Pint-0.20.1-py3-none-any.whl (269 kB)\n",
            "\u001b[2K     \u001b[90m━━━━━━━━━━━━━━━━━━━━━━━━━━━━━━━━━━━━━━━\u001b[0m \u001b[32m269.5/269.5 KB\u001b[0m \u001b[31m2.4 MB/s\u001b[0m eta \u001b[36m0:00:00\u001b[0m\n",
            "\u001b[?25hRequirement already satisfied: fonttools>=4.22.0 in /usr/local/lib/python3.9/dist-packages (from matplotlib->metaplot) (4.39.0)\n",
            "Requirement already satisfied: kiwisolver>=1.0.1 in /usr/local/lib/python3.9/dist-packages (from matplotlib->metaplot) (1.4.4)\n",
            "Requirement already satisfied: pyparsing>=2.2.1 in /usr/local/lib/python3.9/dist-packages (from matplotlib->metaplot) (3.0.9)\n",
            "Requirement already satisfied: pillow>=6.2.0 in /usr/local/lib/python3.9/dist-packages (from matplotlib->metaplot) (8.4.0)\n",
            "Requirement already satisfied: cycler>=0.10 in /usr/local/lib/python3.9/dist-packages (from matplotlib->metaplot) (0.11.0)\n",
            "Requirement already satisfied: python-dateutil>=2.7 in /usr/local/lib/python3.9/dist-packages (from matplotlib->metaplot) (2.8.2)\n",
            "Requirement already satisfied: packaging>=20.0 in /usr/local/lib/python3.9/dist-packages (from matplotlib->metaplot) (23.0)\n",
            "Requirement already satisfied: six>=1.5 in /usr/local/lib/python3.9/dist-packages (from python-dateutil>=2.7->matplotlib->metaplot) (1.15.0)\n",
            "Building wheels for collected packages: metaplot\n",
            "  Building wheel for metaplot (setup.py) ... \u001b[?25l\u001b[?25hdone\n",
            "  Created wheel for metaplot: filename=metaplot-1.1.0-py3-none-any.whl size=7935 sha256=7ddf9c99b8b71bf6c180bd41ecc8665eefa2e1d6aa7e6f41e49dfa7e75c7b382\n",
            "  Stored in directory: /root/.cache/pip/wheels/81/6f/49/4b90e5ff78072e14d3a87d0f5629f4dab46628ebdcbbf7d2b4\n",
            "Successfully built metaplot\n",
            "Installing collected packages: pint, metaplot\n",
            "Successfully installed metaplot-1.1.0 pint-0.20.1\n"
          ]
        }
      ],
      "source": [
        "pip install metaplot"
      ]
    },
    {
      "cell_type": "code",
      "source": [
        "import math\n",
        "import plotly.express as px\n",
        "import matplotlib.pyplot as plt "
      ],
      "metadata": {
        "id": "BZHtvCVIC60L"
      },
      "execution_count": 28,
      "outputs": []
    },
    {
      "cell_type": "code",
      "source": [
        "A = float(input(\"enter A:\"))        #taking input of all variables\n",
        "B = float(input(\"enter B:\"))\n",
        "C = float(input(\"enter C:\"))\n",
        "x0 = float(input(\"enter x0:\"))\n",
        "v0 = float(input(\"enter v0:\"))"
      ],
      "metadata": {
        "colab": {
          "base_uri": "https://localhost:8080/"
        },
        "id": "7zy8iRSeC61_",
        "outputId": "bb8ecac3-4c2f-4734-a1f3-d199b871c278"
      },
      "execution_count": 92,
      "outputs": [
        {
          "name": "stdout",
          "output_type": "stream",
          "text": [
            "enter A:1\n",
            "enter B:4\n",
            "enter C:1\n",
            "enter x0:1\n",
            "enter v0:1\n"
          ]
        }
      ]
    },
    {
      "cell_type": "code",
      "source": [
        "alpha = -B/(2*A)\n",
        "beta = abs(((B**2/4*A**2)-C/A)**1/2)        #applying formula of everything\n",
        "lambda1  =(-B-(B**2-4*A*C)**0.5)/2*A\n",
        "lambda2 = (-B+(B**2-4*A*C)**0.5)/2*A\n",
        "d1 = (v0-lambda2*x0)/(lambda1-lambda2)\n",
        "d2 = (v0-lambda1*x0)/(lambda2-lambda1)"
      ],
      "metadata": {
        "id": "ivn8FV0yC64N"
      },
      "execution_count": 93,
      "outputs": []
    },
    {
      "cell_type": "code",
      "source": [
        "t1 = [i/50 for i in range(200)]"
      ],
      "metadata": {
        "id": "YKS6KwoRC652"
      },
      "execution_count": 94,
      "outputs": []
    },
    {
      "cell_type": "code",
      "source": [
        "def over_damped(): \n",
        "\tx1 = []   # in this lambda1 and lambd2 both are real and distinct\n",
        "\tfor t in t1:\n",
        "\t\tx = d1*math.exp(lambda1*t)+d2*math.exp(lambda2*t)\n",
        "\t\tx1.append(x)\n",
        "\treturn x1"
      ],
      "metadata": {
        "id": "NALpH1kGC67b"
      },
      "execution_count": 95,
      "outputs": []
    },
    {
      "cell_type": "code",
      "source": [
        "def about_damped():\n",
        "\tif B**2-4*A*C > 0:       # printing the damping condition\n",
        "\t\tprint(\"over damped\")       \n",
        "\t\treturn over_damped()\n",
        "\telif B**2-4*A*C == 0:\n",
        "\t\tprint(\"critically damped\")\n",
        "\t\treturn critically_damped()\n",
        "\telif B**2-4*A*C < 0:\n",
        "\t\tprint(\"under damped\")\n",
        "\t\treturn under_damped()"
      ],
      "metadata": {
        "id": "gw4gmFWdC69Y"
      },
      "execution_count": 96,
      "outputs": []
    },
    {
      "cell_type": "code",
      "source": [
        "plt.plot(t1, about_damped())\n",
        "plt.show()"
      ],
      "metadata": {
        "colab": {
          "base_uri": "https://localhost:8080/",
          "height": 282
        },
        "id": "s-Hbl0lwC6_q",
        "outputId": "b1c267b2-d197-40b5-8afe-de26c896e7b7"
      },
      "execution_count": 97,
      "outputs": [
        {
          "output_type": "stream",
          "name": "stdout",
          "text": [
            "over damped\n"
          ]
        },
        {
          "output_type": "display_data",
          "data": {
            "text/plain": [
              "<Figure size 432x288 with 1 Axes>"
            ],
            "image/png": "[encoded data removed]"
          },
          "metadata": {
            "needs_background": "light"
          }
        }
      ]
    },
    {
      "cell_type": "code",
      "source": [
        "A = float(input(\"enter A:\"))        #taking input of all variables\n",
        "B = float(input(\"enter B:\"))\n",
        "C = float(input(\"enter C:\"))\n",
        "x0 = float(input(\"enter x0:\"))\n",
        "v0 = float(input(\"enter v0:\"))"
      ],
      "metadata": {
        "colab": {
          "base_uri": "https://localhost:8080/"
        },
        "id": "8XouJydSC7Br",
        "outputId": "959e25ef-30ae-4b71-ef6c-5cec92c053bd"
      },
      "execution_count": 98,
      "outputs": [
        {
          "name": "stdout",
          "output_type": "stream",
          "text": [
            "enter A:3\n",
            "enter B:2\n",
            "enter C:3\n",
            "enter x0:1\n",
            "enter v0:1\n"
          ]
        }
      ]
    },
    {
      "cell_type": "code",
      "source": [
        "alpha = -B/(2*A)\n",
        "beta = abs(((B**2/4*A**2)-C/A)**1/2)        #applying formula of everything\n",
        "lambda1  =(-B-(B**2-4*A*C)**0.5)/2*A\n",
        "lambda2 = (-B+(B**2-4*A*C)**0.5)/2*A\n",
        "d1 = (v0-lambda2*x0)/(lambda1-lambda2)\n",
        "d2 = (v0-lambda1*x0)/(lambda2-lambda1)"
      ],
      "metadata": {
        "id": "Sy0Ieaa4ELzN"
      },
      "execution_count": 99,
      "outputs": []
    },
    {
      "cell_type": "code",
      "source": [
        "t1 = [i/50 for i in range(200)]"
      ],
      "metadata": {
        "id": "yfUWvKdbK1yJ"
      },
      "execution_count": 100,
      "outputs": []
    },
    {
      "cell_type": "code",
      "source": [
        "def under_damped():\n",
        "\tx1 = []        # lambda1 and lambda2 are conjugative pair\n",
        "\tfor t in t1:\n",
        "\t\tx=math.exp(alpha*t)*(x0*math.cos(beta*t))+((v0+alpha*x0)*math.sin(beta*t))/beta\n",
        "\t\tx1.append(x)\n",
        "\treturn x1"
      ],
      "metadata": {
        "id": "fwbDvGvKC7De"
      },
      "execution_count": 101,
      "outputs": []
    },
    {
      "cell_type": "code",
      "source": [
        "def about_damped():\n",
        "\tif B**2-4*A*C > 0:       # printing the damping condition\n",
        "\t\tprint(\"over damped\")       \n",
        "\t\treturn over_damped()\n",
        "\telif B**2-4*A*C == 0:\n",
        "\t\tprint(\"critically damped\")\n",
        "\t\treturn critically_damped()\n",
        "\telif B**2-4*A*C < 0:\n",
        "\t\tprint(\"under damped\")\n",
        "\t\treturn under_damped()\n",
        "\n"
      ],
      "metadata": {
        "id": "mHQL-SSQELBp"
      },
      "execution_count": 102,
      "outputs": []
    },
    {
      "cell_type": "code",
      "source": [
        "fig = px.line(x = t1, y = about_damped())\n",
        "fig.show()\n"
      ],
      "metadata": {
        "colab": {
          "base_uri": "https://localhost:8080/",
          "height": 559
        },
        "id": "y-WYcEcCPYgT",
        "outputId": "057ae50e-c7da-42fd-c8db-13931f2f6f04"
      },
      "execution_count": 103,
      "outputs": [
        {
          "output_type": "stream",
          "name": "stdout",
          "text": [
            "under damped\n"
          ]
        },
        {
          "output_type": "display_data",
          "data": {
            "text/html": [
              "<html>\n",
              "<head><meta charset=\"utf-8\" /></head>\n",
              "<body>\n",
              "    <div>            <script src=\"https://cdnjs.cloudflare.com/ajax/libs/mathjax/2.7.5/MathJax.js?config=TeX-AMS-MML_SVG\"></script><script type=\"text/javascript\">if (window.MathJax) {MathJax.Hub.Config({SVG: {font: \"STIX-Web\"}});}</script>                <script type=\"text/javascript\">window.PlotlyConfig = {MathJaxConfig: 'local'};</script>\n",
              "        <script src=\"https://cdn.plot.ly/plotly-2.8.3.min.js\"></script>                <div id=\"0f1aa15f-ab2b-4c3b-a906-32226fe2cd52\" class=\"plotly-graph-div\" style=\"height:525px; width:100%;\"></div>            <script type=\"text/javascript\">                                    window.PLOTLYENV=window.PLOTLYENV || {};                                    if (document.getElementById(\"0f1aa15f-ab2b-4c3b-a906-32226fe2cd52\")) {                    Plotly.newPlot(                        \"0f1aa15f-ab2b-4c3b-a906-32226fe2cd52\",                        [{\"hovertemplate\":\"x=%{x}<br>y=%{y}<extra></extra>\",\"legendgroup\":\"\",\"line\":{\"color\":\"#636efa\",\"dash\":\"solid\"},\"marker\":{\"symbol\":\"circle\"},\"mode\":\"lines\",\"name\":\"\",\"orientation\":\"v\",\"showlegend\":false,\"x\":[0.0,0.02,0.04,0.06,0.08,0.1,0.12,0.14,0.16,0.18,0.2,0.22,0.24,0.26,0.28,0.3,0.32,0.34,0.36,0.38,0.4,0.42,0.44,0.46,0.48,0.5,0.52,0.54,0.56,0.58,0.6,0.62,0.64,0.66,0.68,0.7,0.72,0.74,0.76,0.78,0.8,0.82,0.84,0.86,0.88,0.9,0.92,0.94,0.96,0.98,1.0,1.02,1.04,1.06,1.08,1.1,1.12,1.14,1.16,1.18,1.2,1.22,1.24,1.26,1.28,1.3,1.32,1.34,1.36,1.38,1.4,1.42,1.44,1.46,1.48,1.5,1.52,1.54,1.56,1.58,1.6,1.62,1.64,1.66,1.68,1.7,1.72,1.74,1.76,1.78,1.8,1.82,1.84,1.86,1.88,1.9,1.92,1.94,1.96,1.98,2.0,2.02,2.04,2.06,2.08,2.1,2.12,2.14,2.16,2.18,2.2,2.22,2.24,2.26,2.28,2.3,2.32,2.34,2.36,2.38,2.4,2.42,2.44,2.46,2.48,2.5,2.52,2.54,2.56,2.58,2.6,2.62,2.64,2.66,2.68,2.7,2.72,2.74,2.76,2.78,2.8,2.82,2.84,2.86,2.88,2.9,2.92,2.94,2.96,2.98,3.0,3.02,3.04,3.06,3.08,3.1,3.12,3.14,3.16,3.18,3.2,3.22,3.24,3.26,3.28,3.3,3.32,3.34,3.36,3.38,3.4,3.42,3.44,3.46,3.48,3.5,3.52,3.54,3.56,3.58,3.6,3.62,3.64,3.66,3.68,3.7,3.72,3.74,3.76,3.78,3.8,3.82,3.84,3.86,3.88,3.9,3.92,3.94,3.96,3.98],\"xaxis\":\"x\",\"y\":[1.0,1.0034975792616496,1.0007046521835026,0.9917212986869524,0.9766847594708337,0.9557680799769925,0.9291785503116471,0.8971559536703573,0.8599706368290262,0.81792141717892,0.7713333415959202,0.7205553131395693,0.6659576021730869,0.6079292589793106,0.5468754453180724,0.48321470262718597,0.41737617471207744,0.3497968027989079,0.2809185107442551,0.21118539800322775,0.14104095766003005,0.07092533642391147,0.0012726529931308406,-0.06749160940539645,-0.13495312117763963,-0.2007111208705839,-0.26438071251887707,-0.3255950332400321,-0.3840072794711604,-0.43929258128091897,-0.49114971528152984,-0.53930264779983,-0.5835019011357023,-0.623525736933107,-0.6591811519054763,-0.6903046823856135,-0.7167630154026404,-0.7384534052173022,-0.7553038954644672,-0.7672733482506,-0.7743512827271815,-0.7765575268016065,-0.7739416867484545,-0.766582440539933,-0.754586661718912,-0.7380883815858268,-0.7172475983568107,-0.6922489427701745,-0.6633002103676895,-0.6306307713524779,-0.594489869523589,-0.5551448223060034,-0.5128791343318457,-0.46799053738250085,-0.4207889697712005,-0.37159450843104214,-0.3207352670744528,-0.2685452738074434,-0.21536234151676026,-0.1615259442018794,-0.1073751121987721,-0.053246358941128724,0.0005283484698107854,0.05362356306006377,0.10572226482607736,0.1565176898824384,0.2057150718002555,0.25303328570508343,0.2982063864338082,0.3409850328230416,0.381137791011933,0.4184523104843304,0.45273636744332174,0.4838187709995842,0.5115501285579837,0.5358034676986938,0.556474712764067,0.5734830152749156,0.5867709382042304,0.596304495027249,0.6020730453389541,0.6040890496784959,0.6023876870198513,0.597026339174697,0.5880839471026864,0.5756602448320701,0.5598748773562047,0.5408664094856013,0.5187912331977654,0.4938223815355273,0.4661482575565905,0.4359712872307369,0.40350650551500555,0.3689800851101033,0.3326278176125625,0.29469355692639215,0.2554276348852258,0.21508525906162795,0.17392490270512007,0.1322066966557053,0.0901908329267339,0.04813598944164907,0.006297785145620655,-0.035072725602273785,-0.07573051081512033,-0.11543796271191972,-0.1539662359220497,-0.19109651487665982,-0.22662120373241743,-0.2603450327344805,-0.2920860755154229,-0.3216766724410819,-0.34896425574887785,-0.3738120728749308,-0.39609980502911796,-0.4157240787478936,-0.43259886882912035,-0.4466557917271643,-0.45784428915612413,-0.4661317023102882,-0.47150323775994646,-0.47396182671380116,-0.4735278799528955,-0.4702389413318214,-0.4641492433078089,-0.4553291684941494,-0.44386462173852326,-0.42985631769665006,-0.41341898930499343,-0.39468052295100164,-0.3737810264937953,-0.35087183660082033,-0.3261144721355692,-0.29967954055707335,-0.27174560447282514,-0.24249801562271653,-0.2121277236623489,-0.18083006715984573,-0.14880355422149183,-0.11624864011880537,-0.08336650920396921,-0.050357868273010545,-0.01742175836820503,0.015245608195587568,0.04745197903970219,0.07901015490336738,0.10973903884771757,0.13946463587358593,0.16802099771463994,0.19525110796292344,0.2210077031020794,0.2451540254616374,0.2675645045608973,0.2881253637801925,0.30673514977771654,0.32330518255866514,0.33775992459720433,0.3500372679077607,0.3600887384574167,0.36787961780290496,0.3733889823210239,0.3766096608775073,0.3775481122438552,0.3762242240218383,0.37267103526893,0.36693438543254464,0.3590724925945322,0.34915546439795436,0.3372647453739357,0.3234925047057241,0.3079409687585598,0.29072170296627453,0.271954847897649,0.25176831452655946,0.23029694389915017,0.2076816365281783,0.18406845694898466,0.1596077189431335,0.13445305697470483,0.10876048939078359,0.08268747891229884,0.05639199588464479,0.03003158967024752,0.003762473448366749,-0.022261372457955342,-0.04788907378052759,-0.07297370728148062,-0.09737311297973432,-0.12095066934829563,-0.1435760274689325,-0.16512580041670583,-0.18548420445013603,-0.20454364890141713,-0.22220527199311196,-0.23837942015105998,-0.25298606873573437,-0.26595518247387345,-0.27722701423676527,-0.2867523411789657,-0.294492637619383],\"yaxis\":\"y\",\"type\":\"scatter\"}],                        {\"template\":{\"data\":{\"bar\":[{\"error_x\":{\"color\":\"#2a3f5f\"},\"error_y\":{\"color\":\"#2a3f5f\"},\"marker\":{\"line\":{\"color\":\"#E5ECF6\",\"width\":0.5},\"pattern\":{\"fillmode\":\"overlay\",\"size\":10,\"solidity\":0.2}},\"type\":\"bar\"}],\"barpolar\":[{\"marker\":{\"line\":{\"color\":\"#E5ECF6\",\"width\":0.5},\"pattern\":{\"fillmode\":\"overlay\",\"size\":10,\"solidity\":0.2}},\"type\":\"barpolar\"}],\"carpet\":[{\"aaxis\":{\"endlinecolor\":\"#2a3f5f\",\"gridcolor\":\"white\",\"linecolor\":\"white\",\"minorgridcolor\":\"white\",\"startlinecolor\":\"#2a3f5f\"},\"baxis\":{\"endlinecolor\":\"#2a3f5f\",\"gridcolor\":\"white\",\"linecolor\":\"white\",\"minorgridcolor\":\"white\",\"startlinecolor\":\"#2a3f5f\"},\"type\":\"carpet\"}],\"choropleth\":[{\"colorbar\":{\"outlinewidth\":0,\"ticks\":\"\"},\"type\":\"choropleth\"}],\"contour\":[{\"colorbar\":{\"outlinewidth\":0,\"ticks\":\"\"},\"colorscale\":[[0.0,\"#0d0887\"],[0.1111111111111111,\"#46039f\"],[0.2222222222222222,\"#7201a8\"],[0.3333333333333333,\"#9c179e\"],[0.4444444444444444,\"#bd3786\"],[0.5555555555555556,\"#d8576b\"],[0.6666666666666666,\"#ed7953\"],[0.7777777777777778,\"#fb9f3a\"],[0.8888888888888888,\"#fdca26\"],[1.0,\"#f0f921\"]],\"type\":\"contour\"}],\"contourcarpet\":[{\"colorbar\":{\"outlinewidth\":0,\"ticks\":\"\"},\"type\":\"contourcarpet\"}],\"heatmap\":[{\"colorbar\":{\"outlinewidth\":0,\"ticks\":\"\"},\"colorscale\":[[0.0,\"#0d0887\"],[0.1111111111111111,\"#46039f\"],[0.2222222222222222,\"#7201a8\"],[0.3333333333333333,\"#9c179e\"],[0.4444444444444444,\"#bd3786\"],[0.5555555555555556,\"#d8576b\"],[0.6666666666666666,\"#ed7953\"],[0.7777777777777778,\"#fb9f3a\"],[0.8888888888888888,\"#fdca26\"],[1.0,\"#f0f921\"]],\"type\":\"heatmap\"}],\"heatmapgl\":[{\"colorbar\":{\"outlinewidth\":0,\"ticks\":\"\"},\"colorscale\":[[0.0,\"#0d0887\"],[0.1111111111111111,\"#46039f\"],[0.2222222222222222,\"#7201a8\"],[0.3333333333333333,\"#9c179e\"],[0.4444444444444444,\"#bd3786\"],[0.5555555555555556,\"#d8576b\"],[0.6666666666666666,\"#ed7953\"],[0.7777777777777778,\"#fb9f3a\"],[0.8888888888888888,\"#fdca26\"],[1.0,\"#f0f921\"]],\"type\":\"heatmapgl\"}],\"histogram\":[{\"marker\":{\"pattern\":{\"fillmode\":\"overlay\",\"size\":10,\"solidity\":0.2}},\"type\":\"histogram\"}],\"histogram2d\":[{\"colorbar\":{\"outlinewidth\":0,\"ticks\":\"\"},\"colorscale\":[[0.0,\"#0d0887\"],[0.1111111111111111,\"#46039f\"],[0.2222222222222222,\"#7201a8\"],[0.3333333333333333,\"#9c179e\"],[0.4444444444444444,\"#bd3786\"],[0.5555555555555556,\"#d8576b\"],[0.6666666666666666,\"#ed7953\"],[0.7777777777777778,\"#fb9f3a\"],[0.8888888888888888,\"#fdca26\"],[1.0,\"#f0f921\"]],\"type\":\"histogram2d\"}],\"histogram2dcontour\":[{\"colorbar\":{\"outlinewidth\":0,\"ticks\":\"\"},\"colorscale\":[[0.0,\"#0d0887\"],[0.1111111111111111,\"#46039f\"],[0.2222222222222222,\"#7201a8\"],[0.3333333333333333,\"#9c179e\"],[0.4444444444444444,\"#bd3786\"],[0.5555555555555556,\"#d8576b\"],[0.6666666666666666,\"#ed7953\"],[0.7777777777777778,\"#fb9f3a\"],[0.8888888888888888,\"#fdca26\"],[1.0,\"#f0f921\"]],\"type\":\"histogram2dcontour\"}],\"mesh3d\":[{\"colorbar\":{\"outlinewidth\":0,\"ticks\":\"\"},\"type\":\"mesh3d\"}],\"parcoords\":[{\"line\":{\"colorbar\":{\"outlinewidth\":0,\"ticks\":\"\"}},\"type\":\"parcoords\"}],\"pie\":[{\"automargin\":true,\"type\":\"pie\"}],\"scatter\":[{\"marker\":{\"colorbar\":{\"outlinewidth\":0,\"ticks\":\"\"}},\"type\":\"scatter\"}],\"scatter3d\":[{\"line\":{\"colorbar\":{\"outlinewidth\":0,\"ticks\":\"\"}},\"marker\":{\"colorbar\":{\"outlinewidth\":0,\"ticks\":\"\"}},\"type\":\"scatter3d\"}],\"scattercarpet\":[{\"marker\":{\"colorbar\":{\"outlinewidth\":0,\"ticks\":\"\"}},\"type\":\"scattercarpet\"}],\"scattergeo\":[{\"marker\":{\"colorbar\":{\"outlinewidth\":0,\"ticks\":\"\"}},\"type\":\"scattergeo\"}],\"scattergl\":[{\"marker\":{\"colorbar\":{\"outlinewidth\":0,\"ticks\":\"\"}},\"type\":\"scattergl\"}],\"scattermapbox\":[{\"marker\":{\"colorbar\":{\"outlinewidth\":0,\"ticks\":\"\"}},\"type\":\"scattermapbox\"}],\"scatterpolar\":[{\"marker\":{\"colorbar\":{\"outlinewidth\":0,\"ticks\":\"\"}},\"type\":\"scatterpolar\"}],\"scatterpolargl\":[{\"marker\":{\"colorbar\":{\"outlinewidth\":0,\"ticks\":\"\"}},\"type\":\"scatterpolargl\"}],\"scatterternary\":[{\"marker\":{\"colorbar\":{\"outlinewidth\":0,\"ticks\":\"\"}},\"type\":\"scatterternary\"}],\"surface\":[{\"colorbar\":{\"outlinewidth\":0,\"ticks\":\"\"},\"colorscale\":[[0.0,\"#0d0887\"],[0.1111111111111111,\"#46039f\"],[0.2222222222222222,\"#7201a8\"],[0.3333333333333333,\"#9c179e\"],[0.4444444444444444,\"#bd3786\"],[0.5555555555555556,\"#d8576b\"],[0.6666666666666666,\"#ed7953\"],[0.7777777777777778,\"#fb9f3a\"],[0.8888888888888888,\"#fdca26\"],[1.0,\"#f0f921\"]],\"type\":\"surface\"}],\"table\":[{\"cells\":{\"fill\":{\"color\":\"#EBF0F8\"},\"line\":{\"color\":\"white\"}},\"header\":{\"fill\":{\"color\":\"#C8D4E3\"},\"line\":{\"color\":\"white\"}},\"type\":\"table\"}]},\"layout\":{\"annotationdefaults\":{\"arrowcolor\":\"#2a3f5f\",\"arrowhead\":0,\"arrowwidth\":1},\"autotypenumbers\":\"strict\",\"coloraxis\":{\"colorbar\":{\"outlinewidth\":0,\"ticks\":\"\"}},\"colorscale\":{\"diverging\":[[0,\"#8e0152\"],[0.1,\"#c51b7d\"],[0.2,\"#de77ae\"],[0.3,\"#f1b6da\"],[0.4,\"#fde0ef\"],[0.5,\"#f7f7f7\"],[0.6,\"#e6f5d0\"],[0.7,\"#b8e186\"],[0.8,\"#7fbc41\"],[0.9,\"#4d9221\"],[1,\"#276419\"]],\"sequential\":[[0.0,\"#0d0887\"],[0.1111111111111111,\"#46039f\"],[0.2222222222222222,\"#7201a8\"],[0.3333333333333333,\"#9c179e\"],[0.4444444444444444,\"#bd3786\"],[0.5555555555555556,\"#d8576b\"],[0.6666666666666666,\"#ed7953\"],[0.7777777777777778,\"#fb9f3a\"],[0.8888888888888888,\"#fdca26\"],[1.0,\"#f0f921\"]],\"sequentialminus\":[[0.0,\"#0d0887\"],[0.1111111111111111,\"#46039f\"],[0.2222222222222222,\"#7201a8\"],[0.3333333333333333,\"#9c179e\"],[0.4444444444444444,\"#bd3786\"],[0.5555555555555556,\"#d8576b\"],[0.6666666666666666,\"#ed7953\"],[0.7777777777777778,\"#fb9f3a\"],[0.8888888888888888,\"#fdca26\"],[1.0,\"#f0f921\"]]},\"colorway\":[\"#636efa\",\"#EF553B\",\"#00cc96\",\"#ab63fa\",\"#FFA15A\",\"#19d3f3\",\"#FF6692\",\"#B6E880\",\"#FF97FF\",\"#FECB52\"],\"font\":{\"color\":\"#2a3f5f\"},\"geo\":{\"bgcolor\":\"white\",\"lakecolor\":\"white\",\"landcolor\":\"#E5ECF6\",\"showlakes\":true,\"showland\":true,\"subunitcolor\":\"white\"},\"hoverlabel\":{\"align\":\"left\"},\"hovermode\":\"closest\",\"mapbox\":{\"style\":\"light\"},\"paper_bgcolor\":\"white\",\"plot_bgcolor\":\"#E5ECF6\",\"polar\":{\"angularaxis\":{\"gridcolor\":\"white\",\"linecolor\":\"white\",\"ticks\":\"\"},\"bgcolor\":\"#E5ECF6\",\"radialaxis\":{\"gridcolor\":\"white\",\"linecolor\":\"white\",\"ticks\":\"\"}},\"scene\":{\"xaxis\":{\"backgroundcolor\":\"#E5ECF6\",\"gridcolor\":\"white\",\"gridwidth\":2,\"linecolor\":\"white\",\"showbackground\":true,\"ticks\":\"\",\"zerolinecolor\":\"white\"},\"yaxis\":{\"backgroundcolor\":\"#E5ECF6\",\"gridcolor\":\"white\",\"gridwidth\":2,\"linecolor\":\"white\",\"showbackground\":true,\"ticks\":\"\",\"zerolinecolor\":\"white\"},\"zaxis\":{\"backgroundcolor\":\"#E5ECF6\",\"gridcolor\":\"white\",\"gridwidth\":2,\"linecolor\":\"white\",\"showbackground\":true,\"ticks\":\"\",\"zerolinecolor\":\"white\"}},\"shapedefaults\":{\"line\":{\"color\":\"#2a3f5f\"}},\"ternary\":{\"aaxis\":{\"gridcolor\":\"white\",\"linecolor\":\"white\",\"ticks\":\"\"},\"baxis\":{\"gridcolor\":\"white\",\"linecolor\":\"white\",\"ticks\":\"\"},\"bgcolor\":\"#E5ECF6\",\"caxis\":{\"gridcolor\":\"white\",\"linecolor\":\"white\",\"ticks\":\"\"}},\"title\":{\"x\":0.05},\"xaxis\":{\"automargin\":true,\"gridcolor\":\"white\",\"linecolor\":\"white\",\"ticks\":\"\",\"title\":{\"standoff\":15},\"zerolinecolor\":\"white\",\"zerolinewidth\":2},\"yaxis\":{\"automargin\":true,\"gridcolor\":\"white\",\"linecolor\":\"white\",\"ticks\":\"\",\"title\":{\"standoff\":15},\"zerolinecolor\":\"white\",\"zerolinewidth\":2}}},\"xaxis\":{\"anchor\":\"y\",\"domain\":[0.0,1.0],\"title\":{\"text\":\"x\"}},\"yaxis\":{\"anchor\":\"x\",\"domain\":[0.0,1.0],\"title\":{\"text\":\"y\"}},\"legend\":{\"tracegroupgap\":0},\"margin\":{\"t\":60}},                        {\"responsive\": true}                    ).then(function(){\n",
              "                            \n",
              "var gd = document.getElementById('0f1aa15f-ab2b-4c3b-a906-32226fe2cd52');\n",
              "var x = new MutationObserver(function (mutations, observer) {{\n",
              "        var display = window.getComputedStyle(gd).display;\n",
              "        if (!display || display === 'none') {{\n",
              "            console.log([gd, 'removed!']);\n",
              "            Plotly.purge(gd);\n",
              "            observer.disconnect();\n",
              "        }}\n",
              "}});\n",
              "\n",
              "// Listen for the removal of the full notebook cells\n",
              "var notebookContainer = gd.closest('#notebook-container');\n",
              "if (notebookContainer) {{\n",
              "    x.observe(notebookContainer, {childList: true});\n",
              "}}\n",
              "\n",
              "// Listen for the clearing of the current output cell\n",
              "var outputEl = gd.closest('.output');\n",
              "if (outputEl) {{\n",
              "    x.observe(outputEl, {childList: true});\n",
              "}}\n",
              "\n",
              "                        })                };                            </script>        </div>\n",
              "</body>\n",
              "</html>"
            ]
          },
          "metadata": {}
        }
      ]
    },
    {
      "cell_type": "code",
      "source": [
        "plt.plot(t1, about_damped())\n",
        "plt.show()"
      ],
      "metadata": {
        "colab": {
          "base_uri": "https://localhost:8080/",
          "height": 282
        },
        "id": "zRuvaUP-C7Gr",
        "outputId": "5e1d5209-ccbe-4c7d-831c-49365bad8eae"
      },
      "execution_count": 104,
      "outputs": [
        {
          "output_type": "stream",
          "name": "stdout",
          "text": [
            "under damped\n"
          ]
        },
        {
          "output_type": "display_data",
          "data": {
            "text/plain": [
              "<Figure size 432x288 with 1 Axes>"
            ],
            "image/png": "[encoded data removed]"
          },
          "metadata": {
            "needs_background": "light"
          }
        }
      ]
    },
    {
      "cell_type": "code",
      "source": [
        "A = float(input(\"enter A:\"))\n",
        "B = float(input(\"enter B:\"))\n",
        "C = float(input(\"enter C:\"))\n",
        "x0 = float(input(\"enter x0:\"))\n",
        "v0 = float(input(\"enter v0:\"))"
      ],
      "metadata": {
        "colab": {
          "base_uri": "https://localhost:8080/"
        },
        "id": "fTHz1WvOEr99",
        "outputId": "537a14c7-bd80-41f9-f9ee-078d51f25601"
      },
      "execution_count": 105,
      "outputs": [
        {
          "name": "stdout",
          "output_type": "stream",
          "text": [
            "enter A:4\n",
            "enter B:4\n",
            "enter C:1\n",
            "enter x0:1\n",
            "enter v0:1\n"
          ]
        }
      ]
    },
    {
      "cell_type": "code",
      "source": [
        "def critically_damped():\n",
        "\t         # lambda1 and lambda2 are same\n",
        "\tx1 = []\n",
        "\tfor t in t1:\n",
        "\t\n",
        "\t\tx = x0 + (v0 - (-B/2*A*x0)*t)*math.exp((-B/2*A*x0)*t)\n",
        "\t\tx1.append(x)\n",
        "\treturn x1\t"
      ],
      "metadata": {
        "id": "qHcSo-EfHVNs"
      },
      "execution_count": 106,
      "outputs": []
    },
    {
      "cell_type": "code",
      "source": [
        "def about_damped():\n",
        "\tif B**2-4*A*C > 0:       # printing the damping condition\n",
        "\t\tprint(\"over damped\")       \n",
        "\t\treturn over_damped()\n",
        "\telif B**2-4*A*C == 0:\n",
        "\t\tprint(\"critically damped\")\n",
        "\t\treturn critically_damped()\n",
        "\telif B**2-4*A*C < 0:\n",
        "\t\tprint(\"under damped\")\n",
        "\t\treturn under_damped()"
      ],
      "metadata": {
        "id": "3sruv3pVHVW9"
      },
      "execution_count": 107,
      "outputs": []
    },
    {
      "cell_type": "code",
      "source": [
        "plt.plot(t1, about_damped())\n",
        "plt.show()"
      ],
      "metadata": {
        "colab": {
          "base_uri": "https://localhost:8080/",
          "height": 282
        },
        "id": "D3izDaX8HVak",
        "outputId": "cb050b98-dc27-4a4a-9450-fafc6dfa7145"
      },
      "execution_count": 108,
      "outputs": [
        {
          "output_type": "stream",
          "name": "stdout",
          "text": [
            "critically damped\n"
          ]
        },
        {
          "output_type": "display_data",
          "data": {
            "text/plain": [
              "<Figure size 432x288 with 1 Axes>"
            ],
            "image/png": "[encoded data removed]"
          },
          "metadata": {
            "needs_background": "light"
          }
        }
      ]
    }
  ]
}