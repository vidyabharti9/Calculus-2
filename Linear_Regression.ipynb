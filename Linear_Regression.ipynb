{
  "cells": [
    {
      "cell_type": "markdown",
      "metadata": {
        "id": "view-in-github",
        "colab_type": "text"
      },
      "source": [
        "<a href=\"https://colab.research.google.com/github/vidyabharti9/Calculus-2/blob/main/Linear_Regression.ipynb\" target=\"_parent\"><img src=\"https://colab.research.google.com/assets/colab-badge.svg\" alt=\"Open In Colab\"/></a>"
      ]
    },
    {
      "cell_type": "code",
      "execution_count": 1,
      "metadata": {
        "id": "smX0nweFfpAf"
      },
      "outputs": [],
      "source": [
        "import random"
      ]
    },
    {
      "cell_type": "code",
      "execution_count": 2,
      "metadata": {
        "id": "tB5IrpEwjFDC"
      },
      "outputs": [],
      "source": [
        "m = 5\n",
        "c = 10\n",
        "xi = []\n",
        "for i in range(100):\n",
        "    xi.append(i)"
      ]
    },
    {
      "cell_type": "code",
      "source": [
        "yi = []\n",
        "for j in xi:\n",
        "  yi.append(m*j + c + (random.random() - 0.5)*60)"
      ],
      "metadata": {
        "id": "ZhovfNbn7FP_"
      },
      "execution_count": 3,
      "outputs": []
    },
    {
      "cell_type": "code",
      "execution_count": 4,
      "metadata": {
        "id": "pfzgtYzogciE",
        "colab": {
          "base_uri": "https://localhost:8080/",
          "height": 430
        },
        "outputId": "bebcc77a-2ba6-4102-ac45-93c0edfbd078"
      },
      "outputs": [
        {
          "output_type": "display_data",
          "data": {
            "text/plain": [
              "<Figure size 640x480 with 1 Axes>"
            ],
            "image/png": "[encoded data removed]"
          },
          "metadata": {}
        }
      ],
      "source": [
        "import matplotlib.pyplot as plt\n",
        "plt.scatter(xi, yi)\n",
        "plt.show()"
      ]
    },
    {
      "cell_type": "code",
      "source": [
        "import random"
      ],
      "metadata": {
        "id": "G0DG3r463yrr"
      },
      "execution_count": 5,
      "outputs": []
    },
    {
      "cell_type": "code",
      "execution_count": 6,
      "metadata": {
        "id": "JoWdh_Txf47J"
      },
      "outputs": [],
      "source": [
        "xi = []\n",
        "for i in range(100):\n",
        "  xi.append(i)"
      ]
    },
    {
      "cell_type": "code",
      "source": [
        "yi=[]\n",
        "for j in xi:\n",
        "      yi.append(m*j + c + (random.random() - 0.5)*60)"
      ],
      "metadata": {
        "id": "ghEbcYJwsvxB"
      },
      "execution_count": 7,
      "outputs": []
    },
    {
      "cell_type": "code",
      "source": [
        "n = 100\n",
        "t = []\n",
        "sum_xy = 0\n",
        "for j in range(100):\n",
        "  sum_xy = sum_xy + (xi[j]*yi[j])\n",
        "\n"
      ],
      "metadata": {
        "id": "vSvUizw54YaR"
      },
      "execution_count": 8,
      "outputs": []
    },
    {
      "cell_type": "code",
      "source": [
        "xy_bar = (1/n) * sum_xy"
      ],
      "metadata": {
        "id": "m2LD_f7939_p"
      },
      "execution_count": 9,
      "outputs": []
    },
    {
      "cell_type": "code",
      "source": [
        "t = []\n",
        "sum_x = 0\n",
        "for j in range(100):\n",
        "  sum_x = sum_x + (xi[j])"
      ],
      "metadata": {
        "id": "xPeRtuU46VFX"
      },
      "execution_count": 10,
      "outputs": []
    },
    {
      "cell_type": "code",
      "source": [
        "x_bar = (1/n) * sum_x"
      ],
      "metadata": {
        "id": "Fs0fb_W76dXE"
      },
      "execution_count": 11,
      "outputs": []
    },
    {
      "cell_type": "code",
      "source": [
        "t = []\n",
        "sum_y = 0\n",
        "for j in range(100):\n",
        "  sum_y = sum_y + (yi[j])"
      ],
      "metadata": {
        "id": "RjiAnYE46nsC"
      },
      "execution_count": 12,
      "outputs": []
    },
    {
      "cell_type": "code",
      "source": [
        "y_bar = (1/n) * sum_y"
      ],
      "metadata": {
        "id": "W0F7xlRq6rs7"
      },
      "execution_count": 13,
      "outputs": []
    },
    {
      "cell_type": "code",
      "source": [
        "t = []\n",
        "sum_x2 = 0\n",
        "for j in range(100):\n",
        "  sum_x2 = (xi[j] * xi[j]) + sum_x2\n",
        "  "
      ],
      "metadata": {
        "id": "N0UD6hxC65mo"
      },
      "execution_count": 14,
      "outputs": []
    },
    {
      "cell_type": "code",
      "source": [
        "x2_bar = (1/n) * sum_x2"
      ],
      "metadata": {
        "id": "PWBzG_Q37GTT"
      },
      "execution_count": 15,
      "outputs": []
    },
    {
      "cell_type": "code",
      "source": [
        "M =(xy_bar - x_bar*y_bar)/(x2_bar - x_bar**2)\n",
        "C = y_bar - m*x_bar\n",
        "print(M)\n",
        "print(C)\n"
      ],
      "metadata": {
        "id": "_VYc7s9u7dSH",
        "outputId": "68542e77-1015-44a7-e831-59103892a68d",
        "colab": {
          "base_uri": "https://localhost:8080/"
        }
      },
      "execution_count": 16,
      "outputs": [
        {
          "output_type": "stream",
          "name": "stdout",
          "text": [
            "5.011134723928734\n",
            "10.197038805816646\n"
          ]
        }
      ]
    },
    {
      "cell_type": "code",
      "source": [
        "y_i = []\n",
        "for i in range(100):\n",
        "  y_i.append(M*xi[i] + C)\n"
      ],
      "metadata": {
        "id": "4tCNx5INAYBi"
      },
      "execution_count": 17,
      "outputs": []
    },
    {
      "cell_type": "code",
      "source": [
        "import matplotlib.pyplot as plt\n",
        "plt.scatter(xi, yi)\n",
        "plt.plot(xi, y_i)\n",
        "plt.show()"
      ],
      "metadata": {
        "id": "5uSEAyqS-Ppj",
        "outputId": "9165ef7b-f76a-4593-d5d3-59902d9bd606",
        "colab": {
          "base_uri": "https://localhost:8080/",
          "height": 430
        }
      },
      "execution_count": 18,
      "outputs": [
        {
          "output_type": "display_data",
          "data": {
            "text/plain": [
              "<Figure size 640x480 with 1 Axes>"
            ],
            "image/png": "[encoded data removed]"
          },
          "metadata": {}
        }
      ]
    },
    {
      "cell_type": "code",
      "source": [],
      "metadata": {
        "id": "_VP9mhrOCjPT"
      },
      "execution_count": null,
      "outputs": []
    }
  ],
  "metadata": {
    "colab": {
      "provenance": [],
      "authorship_tag": "ABX9TyPbUtrfaJWS75vwBDDrDuF6",
      "include_colab_link": true
    },
    "kernelspec": {
      "display_name": "Python 3",
      "name": "python3"
    },
    "language_info": {
      "name": "python"
    }
  },
  "nbformat": 4,
  "nbformat_minor": 0
}